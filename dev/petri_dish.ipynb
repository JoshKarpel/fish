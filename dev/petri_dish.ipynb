{
 "cells": [
  {
   "cell_type": "code",
   "execution_count": 13,
   "outputs": [
    {
     "name": "stdout",
     "text": [
      "The autoreload extension is already loaded. To reload it, use:\n",
      "  %reload_ext autoreload\n"
     ],
     "output_type": "stream"
    }
   ],
   "source": [
    "%load_ext autoreload\n",
    "%autoreload 2\n",
    "\n",
    "%matplotlib inline\n",
    "\n",
    "import logging\n",
    "logging.basicConfig()\n",
    "\n",
    "from pathlib import Path\n",
    "from pprint import pprint\n",
    "\n",
    "from tqdm import tqdm, trange\n",
    "\n",
    "import numpy as np\n",
    "import matplotlib.pyplot as plt\n",
    "import cv2 as cv\n",
    "from skimage.util import montage\n",
    "\n",
    "import fish"
   ],
   "metadata": {
    "collapsed": false,
    "pycharm": {
     "name": "#%%\n",
     "is_executing": false
    }
   }
  },
  {
   "cell_type": "code",
   "execution_count": 14,
   "outputs": [
    {
     "name": "stdout",
     "text": [
      "D:\\projects\\fish\\dev\n",
      "D:\\projects\\fish\\data\n",
      "D:\\projects\\fish\\dev\\out\\petri_dish\n"
     ],
     "output_type": "stream"
    }
   ],
   "source": [
    "NOTEBOOK_NAME = \"petri_dish\"\n",
    "\n",
    "HERE = Path.cwd().absolute()\n",
    "DATA = HERE.parent / \"data\"\n",
    "OUT = HERE / \"out\" / Path(NOTEBOOK_NAME).stem\n",
    "print(HERE)\n",
    "print(DATA)\n",
    "print(OUT)"
   ],
   "metadata": {
    "collapsed": false,
    "pycharm": {
     "name": "#%%\n",
     "is_executing": false
    }
   }
  },
  {
   "cell_type": "code",
   "execution_count": 15,
   "outputs": [
    {
     "name": "stderr",
     "text": [
      "DEBUG:fish.io:Cached read from D:\\projects\\fish\\data\\D1-6.hsv.cached\n"
     ],
     "output_type": "stream"
    },
    {
     "data": {
      "text/plain": "(1717, 1024, 1280)"
     },
     "metadata": {},
     "output_type": "execute_result",
     "execution_count": 15
    }
   ],
   "source": [
    "frames = fish.cached_read(DATA / \"D1-6.hsv\")[100:]\n",
    "frames.shape"
   ],
   "metadata": {
    "collapsed": false,
    "pycharm": {
     "name": "#%%\n",
     "is_executing": false
    }
   }
  },
  {
   "cell_type": "code",
   "execution_count": 16,
   "outputs": [
    {
     "name": "stderr",
     "text": [
      "Calculating background: 100%|██████████| 1717/1717 [00:10<00:00, 160.39it/s]\n"
     ],
     "output_type": "stream"
    }
   ],
   "source": [
    "bgnd = fish.background_via_min(frames)\n",
    "fish.show_frame(bgnd)"
   ],
   "metadata": {
    "collapsed": false,
    "pycharm": {
     "name": "#%%\n",
     "is_executing": false
    }
   }
  },
  {
   "cell_type": "code",
   "execution_count": 17,
   "outputs": [],
   "source": [
    "edges = cv.Canny(\n",
    "    bgnd,\n",
    "    threshold1 = 1,\n",
    "    threshold2 = 64,\n",
    "    apertureSize = 3,\n",
    "    L2gradient = True,\n",
    ")\n",
    "fish.show_frame(edges)"
   ],
   "metadata": {
    "collapsed": false,
    "pycharm": {
     "name": "#%%\n",
     "is_executing": false
    }
   }
  },
  {
   "cell_type": "code",
   "execution_count": 18,
   "outputs": [],
   "source": [
    "KERNEL_SIZE = 31\n",
    "CIRCLE_CLOSING_KERNEL = cv.getStructuringElement(cv.MORPH_ELLIPSE, (KERNEL_SIZE, KERNEL_SIZE))\n",
    "closed = cv.morphologyEx(edges, cv.MORPH_CLOSE, CIRCLE_CLOSING_KERNEL)\n",
    "fish.show_frame(closed)"
   ],
   "metadata": {
    "collapsed": false,
    "pycharm": {
     "name": "#%%\n",
     "is_executing": false
    }
   }
  },
  {
   "cell_type": "code",
   "execution_count": 19,
   "outputs": [],
   "source": [
    "filtered = fish.remove_components_below_cutoff_area(closed, 5000)\n",
    "fish.show_frame(filtered)\n"
   ],
   "metadata": {
    "collapsed": false,
    "pycharm": {
     "name": "#%%\n",
     "is_executing": false
    }
   }
  },
  {
   "cell_type": "code",
   "execution_count": 20,
   "outputs": [],
   "source": [
    "fish.show_frame(montage([edges, closed, filtered]))"
   ],
   "metadata": {
    "collapsed": false,
    "pycharm": {
     "name": "#%%\n",
     "is_executing": false
    }
   }
  },
  {
   "cell_type": "code",
   "execution_count": 21,
   "outputs": [
    {
     "name": "stdout",
     "text": [
      "0 0.09401082073282478\n",
      "1 0.012373455295113342\n",
      "2 0.09634471375202151\n",
      "3 0.01839333063556434\n",
      "4 0.02023778032395422\n",
      "5 0.010890236676520131\n",
      "6 0.009585871159673204\n",
      "7 0.009028279812966116\n"
     ],
     "output_type": "stream"
    }
   ],
   "source": [
    "circles = fish.find_circles_via_hough_transform(filtered)\n",
    "for idx, circle in enumerate(circles[:8]):\n",
    "    print(idx, fish.area_ratio(circle, filtered))"
   ],
   "metadata": {
    "collapsed": false,
    "pycharm": {
     "name": "#%%\n",
     "is_executing": false
    }
   }
  },
  {
   "cell_type": "code",
   "execution_count": 22,
   "outputs": [],
   "source": [
    "circled = fish.draw_circles(filtered, circles[:8], mark_centers = True, label = True)\n",
    "fish.show_frame(fish.bgr_to_rgb(circled))"
   ],
   "metadata": {
    "collapsed": false,
    "pycharm": {
     "name": "#%%\n",
     "is_executing": false
    }
   }
  },
  {
   "cell_type": "code",
   "execution_count": 23,
   "outputs": [],
   "source": [
    "dish = fish.decide_dish(circles, filtered)\n",
    "dished = fish.draw_circles(bgnd, [dish])\n",
    "fish.show_frame(fish.bgr_to_rgb(dished))"
   ],
   "metadata": {
    "collapsed": false,
    "pycharm": {
     "name": "#%%\n",
     "is_executing": false
    }
   }
  }
 ],
 "metadata": {
  "kernelspec": {
   "name": "python3",
   "language": "python",
   "display_name": "Python 3"
  },
  "language_info": {
   "codemirror_mode": {
    "name": "ipython",
    "version": 3
   },
   "file_extension": ".py",
   "mimetype": "text/x-python",
   "name": "python",
   "nbconvert_exporter": "python",
   "pygments_lexer": "ipython3",
   "version": "3.7.6"
  },
  "pycharm": {
   "stem_cell": {
    "cell_type": "raw",
    "source": [],
    "metadata": {
     "collapsed": false
    }
   }
  }
 },
 "nbformat": 4,
 "nbformat_minor": 4
}
