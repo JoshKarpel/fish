{
 "cells": [
  {
   "cell_type": "code",
   "execution_count": 2,
   "outputs": [
    {
     "name": "stdout",
     "text": [
      "The autoreload extension is already loaded. To reload it, use:\n",
      "  %reload_ext autoreload\n"
     ],
     "output_type": "stream"
    }
   ],
   "source": [
    "%load_ext autoreload\n",
    "%autoreload 2\n",
    "\n",
    "%matplotlib inline\n",
    "\n",
    "import logging\n",
    "logging.basicConfig()\n",
    "\n",
    "from pathlib import Path\n",
    "from pprint import pprint\n",
    "\n",
    "from tqdm import tqdm, trange\n",
    "\n",
    "import numpy as np\n",
    "import matplotlib.pyplot as plt\n",
    "import cv2 as cv\n",
    "from scipy import ndimage as ndi\n",
    "\n",
    "import fish"
   ],
   "metadata": {
    "collapsed": false,
    "pycharm": {
     "name": "#%%\n",
     "is_executing": false
    }
   }
  },
  {
   "cell_type": "code",
   "execution_count": 3,
   "outputs": [
    {
     "name": "stdout",
     "text": [
      "D:\\projects\\fish\\dev\n",
      "D:\\projects\\fish\\data\n",
      "D:\\projects\\fish\\dev\\out\\pipette\n"
     ],
     "output_type": "stream"
    }
   ],
   "source": [
    "NOTEBOOK_NAME = \"pipette\"\n",
    "\n",
    "HERE = Path.cwd().absolute()\n",
    "DATA = HERE.parent / \"data\"\n",
    "OUT = HERE / \"out\" / Path(NOTEBOOK_NAME).stem\n",
    "print(HERE)\n",
    "print(DATA)\n",
    "print(OUT)"
   ],
   "metadata": {
    "collapsed": false,
    "pycharm": {
     "name": "#%%\n",
     "is_executing": false
    }
   }
  },
  {
   "cell_type": "code",
   "execution_count": 4,
   "outputs": [
    {
     "name": "stderr",
     "text": [
      "DEBUG:fish.io:Cached read from D:\\projects\\fish\\data\\D1-1.hsv.cached\n"
     ],
     "output_type": "stream"
    },
    {
     "data": {
      "text/plain": "(1816, 1024, 1280)"
     },
     "metadata": {},
     "output_type": "execute_result",
     "execution_count": 4
    }
   ],
   "source": [
    "frames = fish.cached_read(DATA / \"D1-1.hsv\")\n",
    "frames.shape"
   ],
   "metadata": {
    "collapsed": false,
    "pycharm": {
     "name": "#%%\n",
     "is_executing": false
    }
   }
  },
  {
   "cell_type": "code",
   "execution_count": null,
   "outputs": [],
   "source": [
    "bgnd = fish.background_via_min(frames)"
   ],
   "metadata": {
    "collapsed": false,
    "pycharm": {
     "name": "#%%\n",
     "is_executing": true
    }
   }
  },
  {
   "cell_type": "code",
   "execution_count": null,
   "outputs": [],
   "source": [
    "dish = fish.find_dish(bgnd)\n",
    "mask = dish.mask_like(bgnd)\n",
    "fish.show_frame(mask * 255)"
   ],
   "metadata": {
    "collapsed": false,
    "pycharm": {
     "name": "#%%\n",
     "is_executing": true
    }
   }
  },
  {
   "cell_type": "code",
   "execution_count": null,
   "outputs": [],
   "source": [
    "def label_largest_area(frame):\n",
    "    without_bgnd = np.where(bgnd < frame, frame - bgnd, 0)\n",
    "    masked = fish.apply_mask(without_bgnd, mask)\n",
    "    thresh, thresholded = cv.threshold(masked, thresh = 0, maxval = 255, type = cv.THRESH_OTSU)\n",
    "    \n",
    "    with_edge = dish.draw_on(thresholded)\n",
    "    inverted = cv.bitwise_not(with_edge)\n",
    "    \n",
    "    h, w = inverted.shape\n",
    "    flood_mask = np.zeros((h + 2, w + 2), dtype = np.uint8)\n",
    "    flood_mask[1:-1, 1:-1] = inverted\n",
    "    \n",
    "    _, flooded, b, _ = cv.floodFill(inverted, mask = flood_mask, seedPoint = (dish.x + dish.r, dish.y),\n",
    "                                    newVal = 127,  flags = 8)\n",
    "    \n",
    "    # return flooded\n",
    "    thingy = np.where(flooded == 127, 1, 0).astype(np.uint8)\n",
    "    area = np.sum(thingy)\n",
    "    \n",
    "    return area\n",
    "    \n",
    "# fish.show_frame(label_largest_area(frames[30]))"
   ],
   "metadata": {
    "collapsed": false,
    "pycharm": {
     "name": "#%%\n",
     "is_executing": true
    }
   }
  },
  {
   "cell_type": "code",
   "execution_count": null,
   "outputs": [],
   "source": [
    "areas = [label_largest_area(frame) for frame in tqdm(frames)]"
   ],
   "metadata": {
    "collapsed": false,
    "pycharm": {
     "name": "#%%\n",
     "is_executing": true
    }
   }
  },
  {
   "cell_type": "code",
   "execution_count": null,
   "outputs": [],
   "source": [
    "plt.close()\n",
    "fig = plt.Figure(figsize = (6, 4), dpi = 300)\n",
    "ax = fig.add_subplot(111)\n",
    "ax.plot(areas)\n",
    "\n",
    "fig"
   ],
   "metadata": {
    "collapsed": false,
    "pycharm": {
     "name": "#%%\n",
     "is_executing": true
    }
   }
  },
  {
   "cell_type": "code",
   "execution_count": null,
   "outputs": [],
   "source": [
    "areas = np.array(areas)\n",
    "np.sum(areas > 6000)\n",
    "\n",
    "plt.close()\n",
    "fig = plt.Figure(figsize = (6, 4), dpi = 300)\n",
    "ax = fig.add_subplot(111)\n",
    "ax.plot(areas > 6000)\n",
    "\n",
    "ax.set_xlim(0, 300)\n",
    "\n",
    "fig"
   ],
   "metadata": {
    "collapsed": false,
    "pycharm": {
     "name": "#%%\n",
     "is_executing": true
    }
   }
  },
  {
   "cell_type": "code",
   "execution_count": null,
   "outputs": [],
   "source": [
    "# a = np.expand_dims(areas, 1)\n",
    "# print(a.shape)\n",
    "labels, num_features = ndi.measurements.label(areas > 6000)\n",
    "print(num_features)\n",
    "slices = ndi.measurements.find_objects(labels)\n",
    "print(slices)\n",
    "slices = [s[0] for s in slices]\n",
    "pipette_slice = max(slices, key = lambda s: s.stop - s.start)\n",
    "print(pipette_slice)\n",
    "start_frame = pipette_slice.stop + 10"
   ],
   "metadata": {
    "collapsed": false,
    "pycharm": {
     "name": "#%%\n",
     "is_executing": true
    }
   }
  },
  {
   "cell_type": "code",
   "execution_count": null,
   "outputs": [],
   "source": [
    "f = frames[:50]\n",
    "fish.make_movie(OUT / \"test.mp4\", (label_largest_area(frame) for frame in f), num_frames = len(f), fps = 2)"
   ],
   "metadata": {
    "collapsed": false,
    "pycharm": {
     "name": "#%%\n",
     "is_executing": true
    }
   }
  },
  {
   "cell_type": "code",
   "execution_count": 5,
   "outputs": [
    {
     "name": "stderr",
     "text": [
      "Calculating background: 100%|██████████| 1816/1816 [00:12<00:00, 148.79it/s]\n",
      "Calculating area of objects touching the disk...: 100%|██████████| 1816/1816 [00:51<00:00, 35.52it/s]\n"
     ],
     "output_type": "stream"
    },
    {
     "data": {
      "text/plain": "44"
     },
     "metadata": {},
     "output_type": "execute_result",
     "execution_count": 5
    }
   ],
   "source": [
    "fish.find_last_pipette_frame(frames)"
   ],
   "metadata": {
    "collapsed": false,
    "pycharm": {
     "name": "#%% \n",
     "is_executing": false
    }
   }
  }
 ],
 "metadata": {
  "kernelspec": {
   "name": "python3",
   "language": "python",
   "display_name": "Python 3"
  },
  "language_info": {
   "codemirror_mode": {
    "name": "ipython",
    "version": 3
   },
   "file_extension": ".py",
   "mimetype": "text/x-python",
   "name": "python",
   "nbconvert_exporter": "python",
   "pygments_lexer": "ipython3",
   "version": "3.7.6"
  },
  "pycharm": {
   "stem_cell": {
    "cell_type": "raw",
    "source": [],
    "metadata": {
     "collapsed": false
    }
   }
  }
 },
 "nbformat": 4,
 "nbformat_minor": 4
}
