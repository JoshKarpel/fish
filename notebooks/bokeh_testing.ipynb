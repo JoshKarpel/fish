{
 "cells": [
  {
   "cell_type": "code",
   "execution_count": 1,
   "metadata": {},
   "outputs": [
    {
     "data": {
      "text/html": [
       "\n",
       "    <div class=\"bk-root\">\n",
       "        <a href=\"https://bokeh.org\" target=\"_blank\" class=\"bk-logo bk-logo-small bk-logo-notebook\"></a>\n",
       "        <span id=\"1001\">Loading BokehJS ...</span>\n",
       "    </div>"
      ]
     },
     "metadata": {},
     "output_type": "display_data"
    },
    {
     "data": {
      "application/javascript": [
       "\n",
       "(function(root) {\n",
       "  function now() {\n",
       "    return new Date();\n",
       "  }\n",
       "\n",
       "  var force = true;\n",
       "\n",
       "  if (typeof root._bokeh_onload_callbacks === \"undefined\" || force === true) {\n",
       "    root._bokeh_onload_callbacks = [];\n",
       "    root._bokeh_is_loading = undefined;\n",
       "  }\n",
       "\n",
       "  var JS_MIME_TYPE = 'application/javascript';\n",
       "  var HTML_MIME_TYPE = 'text/html';\n",
       "  var EXEC_MIME_TYPE = 'application/vnd.bokehjs_exec.v0+json';\n",
       "  var CLASS_NAME = 'output_bokeh rendered_html';\n",
       "\n",
       "  /**\n",
       "   * Render data to the DOM node\n",
       "   */\n",
       "  function render(props, node) {\n",
       "    var script = document.createElement(\"script\");\n",
       "    node.appendChild(script);\n",
       "  }\n",
       "\n",
       "  /**\n",
       "   * Handle when an output is cleared or removed\n",
       "   */\n",
       "  function handleClearOutput(event, handle) {\n",
       "    var cell = handle.cell;\n",
       "\n",
       "    var id = cell.output_area._bokeh_element_id;\n",
       "    var server_id = cell.output_area._bokeh_server_id;\n",
       "    // Clean up Bokeh references\n",
       "    if (id != null && id in Bokeh.index) {\n",
       "      Bokeh.index[id].model.document.clear();\n",
       "      delete Bokeh.index[id];\n",
       "    }\n",
       "\n",
       "    if (server_id !== undefined) {\n",
       "      // Clean up Bokeh references\n",
       "      var cmd = \"from bokeh.io.state import curstate; print(curstate().uuid_to_server['\" + server_id + \"'].get_sessions()[0].document.roots[0]._id)\";\n",
       "      cell.notebook.kernel.execute(cmd, {\n",
       "        iopub: {\n",
       "          output: function(msg) {\n",
       "            var id = msg.content.text.trim();\n",
       "            if (id in Bokeh.index) {\n",
       "              Bokeh.index[id].model.document.clear();\n",
       "              delete Bokeh.index[id];\n",
       "            }\n",
       "          }\n",
       "        }\n",
       "      });\n",
       "      // Destroy server and session\n",
       "      var cmd = \"import bokeh.io.notebook as ion; ion.destroy_server('\" + server_id + \"')\";\n",
       "      cell.notebook.kernel.execute(cmd);\n",
       "    }\n",
       "  }\n",
       "\n",
       "  /**\n",
       "   * Handle when a new output is added\n",
       "   */\n",
       "  function handleAddOutput(event, handle) {\n",
       "    var output_area = handle.output_area;\n",
       "    var output = handle.output;\n",
       "\n",
       "    // limit handleAddOutput to display_data with EXEC_MIME_TYPE content only\n",
       "    if ((output.output_type != \"display_data\") || (!output.data.hasOwnProperty(EXEC_MIME_TYPE))) {\n",
       "      return\n",
       "    }\n",
       "\n",
       "    var toinsert = output_area.element.find(\".\" + CLASS_NAME.split(' ')[0]);\n",
       "\n",
       "    if (output.metadata[EXEC_MIME_TYPE][\"id\"] !== undefined) {\n",
       "      toinsert[toinsert.length - 1].firstChild.textContent = output.data[JS_MIME_TYPE];\n",
       "      // store reference to embed id on output_area\n",
       "      output_area._bokeh_element_id = output.metadata[EXEC_MIME_TYPE][\"id\"];\n",
       "    }\n",
       "    if (output.metadata[EXEC_MIME_TYPE][\"server_id\"] !== undefined) {\n",
       "      var bk_div = document.createElement(\"div\");\n",
       "      bk_div.innerHTML = output.data[HTML_MIME_TYPE];\n",
       "      var script_attrs = bk_div.children[0].attributes;\n",
       "      for (var i = 0; i < script_attrs.length; i++) {\n",
       "        toinsert[toinsert.length - 1].firstChild.setAttribute(script_attrs[i].name, script_attrs[i].value);\n",
       "      }\n",
       "      // store reference to server id on output_area\n",
       "      output_area._bokeh_server_id = output.metadata[EXEC_MIME_TYPE][\"server_id\"];\n",
       "    }\n",
       "  }\n",
       "\n",
       "  function register_renderer(events, OutputArea) {\n",
       "\n",
       "    function append_mime(data, metadata, element) {\n",
       "      // create a DOM node to render to\n",
       "      var toinsert = this.create_output_subarea(\n",
       "        metadata,\n",
       "        CLASS_NAME,\n",
       "        EXEC_MIME_TYPE\n",
       "      );\n",
       "      this.keyboard_manager.register_events(toinsert);\n",
       "      // Render to node\n",
       "      var props = {data: data, metadata: metadata[EXEC_MIME_TYPE]};\n",
       "      render(props, toinsert[toinsert.length - 1]);\n",
       "      element.append(toinsert);\n",
       "      return toinsert\n",
       "    }\n",
       "\n",
       "    /* Handle when an output is cleared or removed */\n",
       "    events.on('clear_output.CodeCell', handleClearOutput);\n",
       "    events.on('delete.Cell', handleClearOutput);\n",
       "\n",
       "    /* Handle when a new output is added */\n",
       "    events.on('output_added.OutputArea', handleAddOutput);\n",
       "\n",
       "    /**\n",
       "     * Register the mime type and append_mime function with output_area\n",
       "     */\n",
       "    OutputArea.prototype.register_mime_type(EXEC_MIME_TYPE, append_mime, {\n",
       "      /* Is output safe? */\n",
       "      safe: true,\n",
       "      /* Index of renderer in `output_area.display_order` */\n",
       "      index: 0\n",
       "    });\n",
       "  }\n",
       "\n",
       "  // register the mime type if in Jupyter Notebook environment and previously unregistered\n",
       "  if (root.Jupyter !== undefined) {\n",
       "    var events = require('base/js/events');\n",
       "    var OutputArea = require('notebook/js/outputarea').OutputArea;\n",
       "\n",
       "    if (OutputArea.prototype.mime_types().indexOf(EXEC_MIME_TYPE) == -1) {\n",
       "      register_renderer(events, OutputArea);\n",
       "    }\n",
       "  }\n",
       "\n",
       "  \n",
       "  if (typeof (root._bokeh_timeout) === \"undefined\" || force === true) {\n",
       "    root._bokeh_timeout = Date.now() + 5000;\n",
       "    root._bokeh_failed_load = false;\n",
       "  }\n",
       "\n",
       "  var NB_LOAD_WARNING = {'data': {'text/html':\n",
       "     \"<div style='background-color: #fdd'>\\n\"+\n",
       "     \"<p>\\n\"+\n",
       "     \"BokehJS does not appear to have successfully loaded. If loading BokehJS from CDN, this \\n\"+\n",
       "     \"may be due to a slow or bad network connection. Possible fixes:\\n\"+\n",
       "     \"</p>\\n\"+\n",
       "     \"<ul>\\n\"+\n",
       "     \"<li>re-rerun `output_notebook()` to attempt to load from CDN again, or</li>\\n\"+\n",
       "     \"<li>use INLINE resources instead, as so:</li>\\n\"+\n",
       "     \"</ul>\\n\"+\n",
       "     \"<code>\\n\"+\n",
       "     \"from bokeh.resources import INLINE\\n\"+\n",
       "     \"output_notebook(resources=INLINE)\\n\"+\n",
       "     \"</code>\\n\"+\n",
       "     \"</div>\"}};\n",
       "\n",
       "  function display_loaded() {\n",
       "    var el = document.getElementById(\"1001\");\n",
       "    if (el != null) {\n",
       "      el.textContent = \"BokehJS is loading...\";\n",
       "    }\n",
       "    if (root.Bokeh !== undefined) {\n",
       "      if (el != null) {\n",
       "        el.textContent = \"BokehJS \" + root.Bokeh.version + \" successfully loaded.\";\n",
       "      }\n",
       "    } else if (Date.now() < root._bokeh_timeout) {\n",
       "      setTimeout(display_loaded, 100)\n",
       "    }\n",
       "  }\n",
       "\n",
       "\n",
       "  function run_callbacks() {\n",
       "    try {\n",
       "      root._bokeh_onload_callbacks.forEach(function(callback) {\n",
       "        if (callback != null)\n",
       "          callback();\n",
       "      });\n",
       "    } finally {\n",
       "      delete root._bokeh_onload_callbacks\n",
       "    }\n",
       "    console.debug(\"Bokeh: all callbacks have finished\");\n",
       "  }\n",
       "\n",
       "  function load_libs(css_urls, js_urls, callback) {\n",
       "    if (css_urls == null) css_urls = [];\n",
       "    if (js_urls == null) js_urls = [];\n",
       "\n",
       "    root._bokeh_onload_callbacks.push(callback);\n",
       "    if (root._bokeh_is_loading > 0) {\n",
       "      console.debug(\"Bokeh: BokehJS is being loaded, scheduling callback at\", now());\n",
       "      return null;\n",
       "    }\n",
       "    if (js_urls == null || js_urls.length === 0) {\n",
       "      run_callbacks();\n",
       "      return null;\n",
       "    }\n",
       "    console.debug(\"Bokeh: BokehJS not loaded, scheduling load and callback at\", now());\n",
       "    root._bokeh_is_loading = css_urls.length + js_urls.length;\n",
       "\n",
       "    function on_load() {\n",
       "      root._bokeh_is_loading--;\n",
       "      if (root._bokeh_is_loading === 0) {\n",
       "        console.debug(\"Bokeh: all BokehJS libraries/stylesheets loaded\");\n",
       "        run_callbacks()\n",
       "      }\n",
       "    }\n",
       "\n",
       "    function on_error() {\n",
       "      console.error(\"failed to load \" + url);\n",
       "    }\n",
       "\n",
       "    for (var i = 0; i < css_urls.length; i++) {\n",
       "      var url = css_urls[i];\n",
       "      const element = document.createElement(\"link\");\n",
       "      element.onload = on_load;\n",
       "      element.onerror = on_error;\n",
       "      element.rel = \"stylesheet\";\n",
       "      element.type = \"text/css\";\n",
       "      element.href = url;\n",
       "      console.debug(\"Bokeh: injecting link tag for BokehJS stylesheet: \", url);\n",
       "      document.body.appendChild(element);\n",
       "    }\n",
       "\n",
       "    for (var i = 0; i < js_urls.length; i++) {\n",
       "      var url = js_urls[i];\n",
       "      var element = document.createElement('script');\n",
       "      element.onload = on_load;\n",
       "      element.onerror = on_error;\n",
       "      element.async = false;\n",
       "      element.src = url;\n",
       "      console.debug(\"Bokeh: injecting script tag for BokehJS library: \", url);\n",
       "      document.head.appendChild(element);\n",
       "    }\n",
       "  };var element = document.getElementById(\"1001\");\n",
       "  if (element == null) {\n",
       "    console.error(\"Bokeh: ERROR: autoload.js configured with elementid '1001' but no matching script tag was found. \")\n",
       "    return false;\n",
       "  }\n",
       "\n",
       "  function inject_raw_css(css) {\n",
       "    const element = document.createElement(\"style\");\n",
       "    element.appendChild(document.createTextNode(css));\n",
       "    document.body.appendChild(element);\n",
       "  }\n",
       "\n",
       "  \n",
       "  var js_urls = [\"https://cdn.pydata.org/bokeh/release/bokeh-1.4.0.min.js\", \"https://cdn.pydata.org/bokeh/release/bokeh-widgets-1.4.0.min.js\", \"https://cdn.pydata.org/bokeh/release/bokeh-tables-1.4.0.min.js\", \"https://cdn.pydata.org/bokeh/release/bokeh-gl-1.4.0.min.js\"];\n",
       "  var css_urls = [];\n",
       "  \n",
       "\n",
       "  var inline_js = [\n",
       "    function(Bokeh) {\n",
       "      Bokeh.set_log_level(\"info\");\n",
       "    },\n",
       "    function(Bokeh) {\n",
       "    \n",
       "    \n",
       "    }\n",
       "  ];\n",
       "\n",
       "  function run_inline_js() {\n",
       "    \n",
       "    if (root.Bokeh !== undefined || force === true) {\n",
       "      \n",
       "    for (var i = 0; i < inline_js.length; i++) {\n",
       "      inline_js[i].call(root, root.Bokeh);\n",
       "    }\n",
       "    if (force === true) {\n",
       "        display_loaded();\n",
       "      }} else if (Date.now() < root._bokeh_timeout) {\n",
       "      setTimeout(run_inline_js, 100);\n",
       "    } else if (!root._bokeh_failed_load) {\n",
       "      console.log(\"Bokeh: BokehJS failed to load within specified timeout.\");\n",
       "      root._bokeh_failed_load = true;\n",
       "    } else if (force !== true) {\n",
       "      var cell = $(document.getElementById(\"1001\")).parents('.cell').data().cell;\n",
       "      cell.output_area.append_execute_result(NB_LOAD_WARNING)\n",
       "    }\n",
       "\n",
       "  }\n",
       "\n",
       "  if (root._bokeh_is_loading === 0) {\n",
       "    console.debug(\"Bokeh: BokehJS loaded, going straight to plotting\");\n",
       "    run_inline_js();\n",
       "  } else {\n",
       "    load_libs(css_urls, js_urls, function() {\n",
       "      console.debug(\"Bokeh: BokehJS plotting callback run at\", now());\n",
       "      run_inline_js();\n",
       "    });\n",
       "  }\n",
       "}(window));"
      ],
      "application/vnd.bokehjs_load.v0+json": "\n(function(root) {\n  function now() {\n    return new Date();\n  }\n\n  var force = true;\n\n  if (typeof root._bokeh_onload_callbacks === \"undefined\" || force === true) {\n    root._bokeh_onload_callbacks = [];\n    root._bokeh_is_loading = undefined;\n  }\n\n  \n\n  \n  if (typeof (root._bokeh_timeout) === \"undefined\" || force === true) {\n    root._bokeh_timeout = Date.now() + 5000;\n    root._bokeh_failed_load = false;\n  }\n\n  var NB_LOAD_WARNING = {'data': {'text/html':\n     \"<div style='background-color: #fdd'>\\n\"+\n     \"<p>\\n\"+\n     \"BokehJS does not appear to have successfully loaded. If loading BokehJS from CDN, this \\n\"+\n     \"may be due to a slow or bad network connection. Possible fixes:\\n\"+\n     \"</p>\\n\"+\n     \"<ul>\\n\"+\n     \"<li>re-rerun `output_notebook()` to attempt to load from CDN again, or</li>\\n\"+\n     \"<li>use INLINE resources instead, as so:</li>\\n\"+\n     \"</ul>\\n\"+\n     \"<code>\\n\"+\n     \"from bokeh.resources import INLINE\\n\"+\n     \"output_notebook(resources=INLINE)\\n\"+\n     \"</code>\\n\"+\n     \"</div>\"}};\n\n  function display_loaded() {\n    var el = document.getElementById(\"1001\");\n    if (el != null) {\n      el.textContent = \"BokehJS is loading...\";\n    }\n    if (root.Bokeh !== undefined) {\n      if (el != null) {\n        el.textContent = \"BokehJS \" + root.Bokeh.version + \" successfully loaded.\";\n      }\n    } else if (Date.now() < root._bokeh_timeout) {\n      setTimeout(display_loaded, 100)\n    }\n  }\n\n\n  function run_callbacks() {\n    try {\n      root._bokeh_onload_callbacks.forEach(function(callback) {\n        if (callback != null)\n          callback();\n      });\n    } finally {\n      delete root._bokeh_onload_callbacks\n    }\n    console.debug(\"Bokeh: all callbacks have finished\");\n  }\n\n  function load_libs(css_urls, js_urls, callback) {\n    if (css_urls == null) css_urls = [];\n    if (js_urls == null) js_urls = [];\n\n    root._bokeh_onload_callbacks.push(callback);\n    if (root._bokeh_is_loading > 0) {\n      console.debug(\"Bokeh: BokehJS is being loaded, scheduling callback at\", now());\n      return null;\n    }\n    if (js_urls == null || js_urls.length === 0) {\n      run_callbacks();\n      return null;\n    }\n    console.debug(\"Bokeh: BokehJS not loaded, scheduling load and callback at\", now());\n    root._bokeh_is_loading = css_urls.length + js_urls.length;\n\n    function on_load() {\n      root._bokeh_is_loading--;\n      if (root._bokeh_is_loading === 0) {\n        console.debug(\"Bokeh: all BokehJS libraries/stylesheets loaded\");\n        run_callbacks()\n      }\n    }\n\n    function on_error() {\n      console.error(\"failed to load \" + url);\n    }\n\n    for (var i = 0; i < css_urls.length; i++) {\n      var url = css_urls[i];\n      const element = document.createElement(\"link\");\n      element.onload = on_load;\n      element.onerror = on_error;\n      element.rel = \"stylesheet\";\n      element.type = \"text/css\";\n      element.href = url;\n      console.debug(\"Bokeh: injecting link tag for BokehJS stylesheet: \", url);\n      document.body.appendChild(element);\n    }\n\n    for (var i = 0; i < js_urls.length; i++) {\n      var url = js_urls[i];\n      var element = document.createElement('script');\n      element.onload = on_load;\n      element.onerror = on_error;\n      element.async = false;\n      element.src = url;\n      console.debug(\"Bokeh: injecting script tag for BokehJS library: \", url);\n      document.head.appendChild(element);\n    }\n  };var element = document.getElementById(\"1001\");\n  if (element == null) {\n    console.error(\"Bokeh: ERROR: autoload.js configured with elementid '1001' but no matching script tag was found. \")\n    return false;\n  }\n\n  function inject_raw_css(css) {\n    const element = document.createElement(\"style\");\n    element.appendChild(document.createTextNode(css));\n    document.body.appendChild(element);\n  }\n\n  \n  var js_urls = [\"https://cdn.pydata.org/bokeh/release/bokeh-1.4.0.min.js\", \"https://cdn.pydata.org/bokeh/release/bokeh-widgets-1.4.0.min.js\", \"https://cdn.pydata.org/bokeh/release/bokeh-tables-1.4.0.min.js\", \"https://cdn.pydata.org/bokeh/release/bokeh-gl-1.4.0.min.js\"];\n  var css_urls = [];\n  \n\n  var inline_js = [\n    function(Bokeh) {\n      Bokeh.set_log_level(\"info\");\n    },\n    function(Bokeh) {\n    \n    \n    }\n  ];\n\n  function run_inline_js() {\n    \n    if (root.Bokeh !== undefined || force === true) {\n      \n    for (var i = 0; i < inline_js.length; i++) {\n      inline_js[i].call(root, root.Bokeh);\n    }\n    if (force === true) {\n        display_loaded();\n      }} else if (Date.now() < root._bokeh_timeout) {\n      setTimeout(run_inline_js, 100);\n    } else if (!root._bokeh_failed_load) {\n      console.log(\"Bokeh: BokehJS failed to load within specified timeout.\");\n      root._bokeh_failed_load = true;\n    } else if (force !== true) {\n      var cell = $(document.getElementById(\"1001\")).parents('.cell').data().cell;\n      cell.output_area.append_execute_result(NB_LOAD_WARNING)\n    }\n\n  }\n\n  if (root._bokeh_is_loading === 0) {\n    console.debug(\"Bokeh: BokehJS loaded, going straight to plotting\");\n    run_inline_js();\n  } else {\n    load_libs(css_urls, js_urls, function() {\n      console.debug(\"Bokeh: BokehJS plotting callback run at\", now());\n      run_inline_js();\n    });\n  }\n}(window));"
     },
     "metadata": {},
     "output_type": "display_data"
    }
   ],
   "source": [
    "%load_ext autoreload\n",
    "\n",
    "from pathlib import Path\n",
    "\n",
    "from tqdm import tqdm, trange\n",
    "\n",
    "import numpy as np\n",
    "\n",
    "from scipy import ndimage as ndi\n",
    "\n",
    "import skimage\n",
    "import skimage.feature\n",
    "import skimage.filters\n",
    "import skimage.morphology\n",
    "import skimage.segmentation as seg\n",
    "import skimage.measure\n",
    "\n",
    "import cv2 as cv\n",
    "\n",
    "from bokeh.plotting import output_notebook, figure, show\n",
    "from bokeh.layouts import column, row, layout, gridplot\n",
    "from bokeh.models import ColumnDataSource, Slider\n",
    "\n",
    "import fish\n",
    "\n",
    "output_notebook()"
   ]
  },
  {
   "cell_type": "code",
   "execution_count": 2,
   "metadata": {},
   "outputs": [],
   "source": [
    "THIS_DIR = Path.cwd()\n",
    "ROOT_DIR = THIS_DIR.parent\n",
    "DATA_DIR = ROOT_DIR / 'data'"
   ]
  },
  {
   "cell_type": "code",
   "execution_count": 3,
   "metadata": {},
   "outputs": [],
   "source": [
    "def show_frame(frame):\n",
    "    W = frame.shape[1]\n",
    "    H = frame.shape[0]\n",
    "\n",
    "    def _(doc):\n",
    "        p = figure(match_aspect = True)\n",
    "        p.x_range.range_padding = p.y_range.range_padding = 0\n",
    "\n",
    "        source = ColumnDataSource(data=dict(image=[frame[:, :]]))\n",
    "\n",
    "        p.image(image='image', source = source, x = 0, y = 0, dw = W, dh = H, palette=\"Greys256\")\n",
    "\n",
    "        doc.add_root(p)\n",
    "        \n",
    "    return show(_)\n",
    "\n",
    "def show_frames(frames):\n",
    "    N = frames.shape[0]\n",
    "    W = frames.shape[2]\n",
    "    H = frames.shape[1]\n",
    "\n",
    "    def _(doc):\n",
    "        p = figure(match_aspect = True)\n",
    "        p.x_range.range_padding = p.y_range.range_padding = 0\n",
    "\n",
    "        source = ColumnDataSource(data=dict(image=[frames[0, :, :]]))\n",
    "\n",
    "        slider = Slider(start=0, end=(N-1), value=0, step=1, title=\"Frame\", callback_policy='throttle', callback_throttle=100)\n",
    "        \n",
    "        def update(attr, old, new):\n",
    "            source.data = dict(image=[frames[new, :, :]])\n",
    "        \n",
    "        slider.on_change('value_throttled', update)\n",
    "\n",
    "        p.image(image='image', source = source, x = 0, y = 0, dw = W, dh = H, palette=\"Greys256\")\n",
    "\n",
    "        doc.add_root(column(p, slider))\n",
    "        \n",
    "    return show(_)"
   ]
  },
  {
   "cell_type": "code",
   "execution_count": 4,
   "metadata": {},
   "outputs": [
    {
     "name": "stderr",
     "output_type": "stream",
     "text": [
      "Reading frames from C:\\Users\\joshk\\projects\\fish\\data\\D1-1_17_medium.mp4: 100%|██████████████████████████████████████████████████████████████████████████████████████| 1816/1816 [00:08<00:00, 210.26it/s]"
     ]
    },
    {
     "name": "stdout",
     "output_type": "stream",
     "text": [
      "(1816, 1024, 1280)\n"
     ]
    },
    {
     "name": "stderr",
     "output_type": "stream",
     "text": [
      "\n"
     ]
    }
   ],
   "source": [
    "movie = fish.read(DATA_DIR / 'D1-1_17_medium.mp4')\n",
    "movie = np.fliplr(movie)\n",
    "print(movie.shape)"
   ]
  },
  {
   "cell_type": "code",
   "execution_count": 5,
   "metadata": {},
   "outputs": [
    {
     "data": {
      "application/vnd.bokehjs_exec.v0+json": "",
      "text/html": [
       "\n",
       "<script src=\"http://localhost:60276/autoload.js?bokeh-autoload-element=1002&bokeh-absolute-url=http://localhost:60276&resources=none\" id=\"1002\"></script>"
      ]
     },
     "metadata": {
      "application/vnd.bokehjs_exec.v0+json": {
       "server_id": "2eb8edb04f3f481586aa5302ef1178f8"
      }
     },
     "output_type": "display_data"
    }
   ],
   "source": [
    "show_frames(movie)"
   ]
  },
  {
   "cell_type": "code",
   "execution_count": 6,
   "metadata": {},
   "outputs": [
    {
     "name": "stderr",
     "output_type": "stream",
     "text": [
      "100%|████████████████████████████████████████████████████████████████████████████████████████████████████████████████████████████████████████████████████████████████| 1816/1816 [00:14<00:00, 126.69it/s]\n"
     ]
    }
   ],
   "source": [
    "backsub = cv.createBackgroundSubtractorMOG2()\n",
    "backsubbed_movie = np.empty_like(movie)\n",
    "for frame_idx, frame in enumerate(tqdm(movie)):\n",
    "    backsubbed_movie[frame_idx] = backsub.apply(frame)"
   ]
  },
  {
   "cell_type": "code",
   "execution_count": 7,
   "metadata": {},
   "outputs": [
    {
     "data": {
      "application/vnd.bokehjs_exec.v0+json": "",
      "text/html": [
       "\n",
       "<script src=\"http://localhost:60285/autoload.js?bokeh-autoload-element=1003&bokeh-absolute-url=http://localhost:60285&resources=none\" id=\"1003\"></script>"
      ]
     },
     "metadata": {
      "application/vnd.bokehjs_exec.v0+json": {
       "server_id": "bf9d5b957f2b4d8888cfa2a5f260bd4e"
      }
     },
     "output_type": "display_data"
    }
   ],
   "source": [
    "show_frames(backsubbed_movie)"
   ]
  },
  {
   "cell_type": "code",
   "execution_count": 8,
   "metadata": {},
   "outputs": [
    {
     "data": {
      "application/vnd.bokehjs_exec.v0+json": "",
      "text/html": [
       "\n",
       "<script src=\"http://localhost:60287/autoload.js?bokeh-autoload-element=1004&bokeh-absolute-url=http://localhost:60287&resources=none\" id=\"1004\"></script>"
      ]
     },
     "metadata": {
      "application/vnd.bokehjs_exec.v0+json": {
       "server_id": "34761129b0334e85a6bca8f68373d082"
      }
     },
     "output_type": "display_data"
    }
   ],
   "source": [
    "show_frame(backsub.getBackgroundImage())"
   ]
  },
  {
   "cell_type": "code",
   "execution_count": 9,
   "metadata": {},
   "outputs": [
    {
     "data": {
      "application/vnd.bokehjs_exec.v0+json": "",
      "text/html": [
       "\n",
       "<script src=\"http://localhost:60289/autoload.js?bokeh-autoload-element=1005&bokeh-absolute-url=http://localhost:60289&resources=none\" id=\"1005\"></script>"
      ]
     },
     "metadata": {
      "application/vnd.bokehjs_exec.v0+json": {
       "server_id": "5822ec2330074b05a5fe00a8d05e411d"
      }
     },
     "output_type": "display_data"
    }
   ],
   "source": [
    "avg = np.mean(movie, axis=0)\n",
    "show_frame(avg)"
   ]
  },
  {
   "cell_type": "code",
   "execution_count": 10,
   "metadata": {},
   "outputs": [
    {
     "name": "stderr",
     "output_type": "stream",
     "text": [
      "100%|███████████████████████████████████████████████████████████████████████████████████████████████████████████████████████████████████████████████████████████████████████| 1/1 [00:18<00:00, 18.17s/it]\n"
     ]
    }
   ],
   "source": [
    "shuffle_backsub = cv.createBackgroundSubtractorMOG2(detectShadows=False)\n",
    "\n",
    "shuffled = movie.copy()\n",
    "\n",
    "for _ in trange(1):\n",
    "    np.random.shuffle(shuffled)\n",
    "    for frame in shuffled:\n",
    "        shuffle_backsub.apply(frame)"
   ]
  },
  {
   "cell_type": "code",
   "execution_count": 11,
   "metadata": {},
   "outputs": [
    {
     "data": {
      "application/vnd.bokehjs_exec.v0+json": "",
      "text/html": [
       "\n",
       "<script src=\"http://localhost:60297/autoload.js?bokeh-autoload-element=1006&bokeh-absolute-url=http://localhost:60297&resources=none\" id=\"1006\"></script>"
      ]
     },
     "metadata": {
      "application/vnd.bokehjs_exec.v0+json": {
       "server_id": "2dbb456a4c014e9f92fccbc39e27b027"
      }
     },
     "output_type": "display_data"
    }
   ],
   "source": [
    "show_frame(shuffle_backsub.getBackgroundImage())"
   ]
  },
  {
   "cell_type": "code",
   "execution_count": 12,
   "metadata": {},
   "outputs": [
    {
     "name": "stderr",
     "output_type": "stream",
     "text": [
      "100%|█████████████████████████████████████████████████████████████████████████████████████████████████████████████████████████████████████████████████████████████████| 1816/1816 [00:28<00:00, 64.32it/s]\n"
     ]
    }
   ],
   "source": [
    "backsubbed_movie = np.empty_like(movie)\n",
    "for frame_idx, frame in enumerate(tqdm(movie)):\n",
    "    backsubbed_movie[frame_idx] = shuffle_backsub.apply(frame, learningRate = 0)  # don't update the background model, which we've pre-trained"
   ]
  },
  {
   "cell_type": "code",
   "execution_count": 13,
   "metadata": {},
   "outputs": [
    {
     "data": {
      "application/vnd.bokehjs_exec.v0+json": "",
      "text/html": [
       "\n",
       "<script src=\"http://localhost:60302/autoload.js?bokeh-autoload-element=1007&bokeh-absolute-url=http://localhost:60302&resources=none\" id=\"1007\"></script>"
      ]
     },
     "metadata": {
      "application/vnd.bokehjs_exec.v0+json": {
       "server_id": "ed871ae4680d41b18604ee4d509b291a"
      }
     },
     "output_type": "display_data"
    }
   ],
   "source": [
    "show_frames(backsubbed_movie)"
   ]
  },
  {
   "cell_type": "code",
   "execution_count": 14,
   "metadata": {},
   "outputs": [],
   "source": [
    "def canny(frames):\n",
    "    N = frames.shape[0]\n",
    "    W = frames.shape[2]\n",
    "    H = frames.shape[1]\n",
    "\n",
    "    def _(doc):\n",
    "        orig = figure(match_aspect = True)\n",
    "        cann = figure(match_aspect = True)\n",
    "        orig.x_range.range_padding = orig.y_range.range_padding = 0\n",
    "        cann.x_range = orig.x_range\n",
    "        cann.y_range = orig.y_range\n",
    "        \n",
    "        frame_opts = {\n",
    "            'index': 0\n",
    "        }\n",
    "        canny_opts = {\n",
    "            'sigma': 1,\n",
    "            'low_threshold': 10,\n",
    "            'high_threshold': 200,\n",
    "        }\n",
    "\n",
    "        orig_source = ColumnDataSource(data=dict(image=[frames[frame_opts['index'], :, :]]))\n",
    "        cann_source = ColumnDataSource(data=dict(image=[skimage.feature.canny(frames[frame_opts['index'], :, :], **canny_opts)]))\n",
    "\n",
    "        frame_slider = Slider(start=0, end=(N-1), value=frame_opts['index'], step=1, title=\"Frame\", callback_policy='mouseup', callback_throttle=100)\n",
    "        sigma_slider = Slider(start=0, end=3, value=canny_opts['sigma'], step=.01, title=\"Sigma\", callback_policy='mouseup', callback_throttle=100)\n",
    "        low_slider = Slider(start=0, end=255, value=canny_opts['low_threshold'], step=.01, title=\"Low Threshold\", callback_policy='mouseup', callback_throttle=100)\n",
    "        high_slider = Slider(start=0, end=255, value=canny_opts['high_threshold'], step=.01, title=\"High Threshold\", callback_policy='mouseup', callback_throttle=100)\n",
    "        \n",
    "        def updater(opt_dict, key):\n",
    "            def _(attr, old, new):\n",
    "                opt_dict[key] = new\n",
    "                \n",
    "                f = frames[frame_opts['index']]\n",
    "                orig_source.data = dict(image=[f])\n",
    "                \n",
    "                c = skimage.feature.canny(f, **canny_opts)\n",
    "                cann_source.data = dict(image=[c])\n",
    "                \n",
    "            return _\n",
    "        \n",
    "        frame_slider.on_change('value_throttled', updater(frame_opts, 'index'))\n",
    "        sigma_slider.on_change('value_throttled', updater(canny_opts, 'sigma'))\n",
    "        low_slider.on_change('value_throttled', updater(canny_opts, 'low_threshold'))\n",
    "        high_slider.on_change('value_throttled', updater(canny_opts, 'high_threshold'))\n",
    "\n",
    "        orig.image(image='image', source = orig_source, x = 0, y = 0, dw = W, dh = H, palette=\"Greys256\")\n",
    "        cann.image(image='image', source = cann_source, x = 0, y = 0, dw = W, dh = H, palette=\"Greys256\")\n",
    "\n",
    "        doc.add_root(column(row(orig, cann), frame_slider, row(sigma_slider, low_slider, high_slider)))\n",
    "        \n",
    "    return show(_)"
   ]
  },
  {
   "cell_type": "code",
   "execution_count": 15,
   "metadata": {},
   "outputs": [
    {
     "data": {
      "application/vnd.bokehjs_exec.v0+json": "",
      "text/html": [
       "\n",
       "<script src=\"http://localhost:60305/autoload.js?bokeh-autoload-element=1008&bokeh-absolute-url=http://localhost:60305&resources=none\" id=\"1008\"></script>"
      ]
     },
     "metadata": {
      "application/vnd.bokehjs_exec.v0+json": {
       "server_id": "a4bad996ed7143e4a6b07522bd131229"
      }
     },
     "output_type": "display_data"
    }
   ],
   "source": [
    "canny(movie)"
   ]
  },
  {
   "cell_type": "code",
   "execution_count": 16,
   "metadata": {},
   "outputs": [
    {
     "data": {
      "application/vnd.bokehjs_exec.v0+json": "",
      "text/html": [
       "\n",
       "<script src=\"http://localhost:60307/autoload.js?bokeh-autoload-element=1009&bokeh-absolute-url=http://localhost:60307&resources=none\" id=\"1009\"></script>"
      ]
     },
     "metadata": {
      "application/vnd.bokehjs_exec.v0+json": {
       "server_id": "bdfde8a21ca44dbc9883b1ebad1fe2e8"
      }
     },
     "output_type": "display_data"
    }
   ],
   "source": [
    "frame = movie[0]\n",
    "\n",
    "markers = np.zeros_like(frame)\n",
    "markers[frame < 20] = 0\n",
    "markers[frame > 100] = 2\n",
    "\n",
    "show_frame(markers)"
   ]
  },
  {
   "cell_type": "code",
   "execution_count": 17,
   "metadata": {},
   "outputs": [
    {
     "data": {
      "application/vnd.bokehjs_exec.v0+json": "",
      "text/html": [
       "\n",
       "<script src=\"http://localhost:60309/autoload.js?bokeh-autoload-element=1010&bokeh-absolute-url=http://localhost:60309&resources=none\" id=\"1010\"></script>"
      ]
     },
     "metadata": {
      "application/vnd.bokehjs_exec.v0+json": {
       "server_id": "d4db563564484e13a73cd639b3786b26"
      }
     },
     "output_type": "display_data"
    }
   ],
   "source": [
    "elevation = skimage.filters.scharr(frame)\n",
    "show_frame(elevation)"
   ]
  },
  {
   "cell_type": "code",
   "execution_count": 18,
   "metadata": {},
   "outputs": [
    {
     "data": {
      "application/vnd.bokehjs_exec.v0+json": "",
      "text/html": [
       "\n",
       "<script src=\"http://localhost:60311/autoload.js?bokeh-autoload-element=1011&bokeh-absolute-url=http://localhost:60311&resources=none\" id=\"1011\"></script>"
      ]
     },
     "metadata": {
      "application/vnd.bokehjs_exec.v0+json": {
       "server_id": "7d8febb562e4415bb1da7b17172892d0"
      }
     },
     "output_type": "display_data"
    }
   ],
   "source": [
    "segmentation = skimage.morphology.watershed(elevation, markers, compactness = .0001)\n",
    "show_frame(segmentation)"
   ]
  },
  {
   "cell_type": "code",
   "execution_count": 19,
   "metadata": {},
   "outputs": [
    {
     "data": {
      "application/vnd.bokehjs_exec.v0+json": "",
      "text/html": [
       "\n",
       "<script src=\"http://localhost:60313/autoload.js?bokeh-autoload-element=1012&bokeh-absolute-url=http://localhost:60313&resources=none\" id=\"1012\"></script>"
      ]
     },
     "metadata": {
      "application/vnd.bokehjs_exec.v0+json": {
       "server_id": "4052cb166a1048319f2066e8169f8824"
      }
     },
     "output_type": "display_data"
    }
   ],
   "source": [
    "canny(backsubbed_movie)"
   ]
  },
  {
   "cell_type": "code",
   "execution_count": 20,
   "metadata": {},
   "outputs": [],
   "source": [
    "c = skimage.feature.canny(backsubbed_movie[186], low_threshold=26, high_threshold=239, sigma=1.5)"
   ]
  },
  {
   "cell_type": "code",
   "execution_count": 21,
   "metadata": {},
   "outputs": [
    {
     "data": {
      "application/vnd.bokehjs_exec.v0+json": "",
      "text/html": [
       "\n",
       "<script src=\"http://localhost:60314/autoload.js?bokeh-autoload-element=1013&bokeh-absolute-url=http://localhost:60314&resources=none\" id=\"1013\"></script>"
      ]
     },
     "metadata": {
      "application/vnd.bokehjs_exec.v0+json": {
       "server_id": "7a486ae662084ea0a569352da8f5df31"
      }
     },
     "output_type": "display_data"
    }
   ],
   "source": [
    "show_frame(c)"
   ]
  },
  {
   "cell_type": "code",
   "execution_count": 22,
   "metadata": {},
   "outputs": [],
   "source": [
    "contours = skimage.measure.find_contours(c, .5)"
   ]
  },
  {
   "cell_type": "code",
   "execution_count": 23,
   "metadata": {},
   "outputs": [
    {
     "data": {
      "text/plain": [
       "590"
      ]
     },
     "execution_count": 23,
     "metadata": {},
     "output_type": "execute_result"
    }
   ],
   "source": [
    "len(contours)"
   ]
  },
  {
   "cell_type": "code",
   "execution_count": 24,
   "metadata": {},
   "outputs": [
    {
     "data": {
      "application/vnd.bokehjs_exec.v0+json": "",
      "text/html": [
       "\n",
       "<script src=\"http://localhost:60315/autoload.js?bokeh-autoload-element=1014&bokeh-absolute-url=http://localhost:60315&resources=none\" id=\"1014\"></script>"
      ]
     },
     "metadata": {
      "application/vnd.bokehjs_exec.v0+json": {
       "server_id": "2819f8e4e07d4c45836dbb377fd22f7b"
      }
     },
     "output_type": "display_data"
    }
   ],
   "source": [
    "filled = ndi.binary_fill_holes(ndi.binary_closing(c))\n",
    "show_frame(filled)"
   ]
  },
  {
   "cell_type": "code",
   "execution_count": 25,
   "metadata": {},
   "outputs": [
    {
     "data": {
      "application/vnd.bokehjs_exec.v0+json": "",
      "text/html": [
       "\n",
       "<script src=\"http://localhost:60316/autoload.js?bokeh-autoload-element=1015&bokeh-absolute-url=http://localhost:60316&resources=none\" id=\"1015\"></script>"
      ]
     },
     "metadata": {
      "application/vnd.bokehjs_exec.v0+json": {
       "server_id": "d2206284b06d4c51b3c13cc018f9d2ac"
      }
     },
     "output_type": "display_data"
    }
   ],
   "source": [
    "labelled, num = ndi.label(c)\n",
    "show_frame(labelled)"
   ]
  },
  {
   "cell_type": "code",
   "execution_count": 69,
   "metadata": {},
   "outputs": [],
   "source": [
    "def slices(frames):\n",
    "    N = frames.shape[0]\n",
    "    H = frames.shape[1]\n",
    "    W = frames.shape[2]\n",
    "\n",
    "    def _(doc):\n",
    "        orig = figure(match_aspect = True)\n",
    "        slic = figure(match_aspect = True)\n",
    "        slic.y_range.start = 0\n",
    "        slic.y_range.end = 260\n",
    "        \n",
    "        frame_opts = {\n",
    "            'index': 0,\n",
    "            'h': 0,\n",
    "            'v': 0,\n",
    "        }\n",
    "\n",
    "        orig_source = ColumnDataSource(data=dict(image=[frames[frame_opts['index'], :, :]]))\n",
    "        slic_source = ColumnDataSource(data=dict(x=np.arange(0, H, 1), y_coord=frame_opts['h'],y=frames[frame_opts['index'], :, frame_opts['h']]))\n",
    "\n",
    "        frame_slider = Slider(start=0, end=(N-1), value=frame_opts['index'], step=1, title=\"Frame\", callback_policy='mouseup', callback_throttle=100)\n",
    "        h_slider = Slider(start=0, end=H, value=frame_opts['h'], step=1, title=\"h\", callback_policy='mouseup', callback_throttle=100)\n",
    "        \n",
    "        def updater(opt_dict, key):\n",
    "            def _(attr, old, new):\n",
    "                opt_dict[key] = new\n",
    "                \n",
    "                f = frames[frame_opts['index']]\n",
    "                orig_source.data = dict(image=[f])\n",
    "                \n",
    "                slic_source.data = dict(x = np.arange(0, H, 1), y=f[:, frame_opts['h']], y_coord=frame_opts['h'])\n",
    "                \n",
    "            return _\n",
    "        \n",
    "        frame_slider.on_change('value_throttled', updater(frame_opts, 'index'))\n",
    "        h_slider.on_change('value_throttled', updater(frame_opts, 'h'))\n",
    "\n",
    "        orig.image(image='image', source = orig_source, x = 0, y = 0, dw = W, dh = H, palette=\"Greys256\")\n",
    "        orig.hbar(y='y', source = slic_source)\n",
    "        slic.line(x='x', y='y_coord', source = slic_source)\n",
    "\n",
    "        doc.add_root(column(row(orig, slic), frame_slider, row(h_slider)))\n",
    "        \n",
    "    return show(_)"
   ]
  },
  {
   "cell_type": "code",
   "execution_count": 70,
   "metadata": {},
   "outputs": [
    {
     "data": {
      "application/vnd.bokehjs_exec.v0+json": "",
      "text/html": [
       "\n",
       "<script src=\"http://localhost:60564/autoload.js?bokeh-autoload-element=6694&bokeh-absolute-url=http://localhost:60564&resources=none\" id=\"6694\"></script>"
      ]
     },
     "metadata": {
      "application/vnd.bokehjs_exec.v0+json": {
       "server_id": "c1fda1a7b898489b9b0e421ad1f98242"
      }
     },
     "output_type": "display_data"
    },
    {
     "name": "stderr",
     "output_type": "stream",
     "text": [
      "ERROR:tornado.application:Uncaught exception GET /autoload.js?bokeh-autoload-element=6694&bokeh-absolute-url=http://localhost:60564&resources=none (::1)\n",
      "HTTPServerRequest(protocol='http', host='localhost:60564', method='GET', uri='/autoload.js?bokeh-autoload-element=6694&bokeh-absolute-url=http://localhost:60564&resources=none', version='HTTP/1.1', remote_ip='::1')\n",
      "Traceback (most recent call last):\n",
      "  File \"C:\\Users\\joshk\\.python\\envs\\fish\\lib\\site-packages\\tornado\\web.py\", line 1699, in _execute\n",
      "    result = await result\n",
      "  File \"C:\\Users\\joshk\\.python\\envs\\fish\\lib\\site-packages\\tornado\\gen.py\", line 742, in run\n",
      "    yielded = self.gen.throw(*exc_info)  # type: ignore\n",
      "  File \"C:\\Users\\joshk\\.python\\envs\\fish\\lib\\site-packages\\bokeh\\server\\views\\autoload_js_handler.py\", line 60, in get\n",
      "    session = yield self.get_session()\n",
      "  File \"C:\\Users\\joshk\\.python\\envs\\fish\\lib\\site-packages\\tornado\\gen.py\", line 735, in run\n",
      "    value = future.result()\n",
      "  File \"C:\\Users\\joshk\\.python\\envs\\fish\\lib\\site-packages\\tornado\\gen.py\", line 742, in run\n",
      "    yielded = self.gen.throw(*exc_info)  # type: ignore\n",
      "  File \"C:\\Users\\joshk\\.python\\envs\\fish\\lib\\site-packages\\bokeh\\server\\views\\session_handler.py\", line 79, in get_session\n",
      "    session = yield self.application_context.create_session_if_needed(session_id, self.request)\n",
      "  File \"C:\\Users\\joshk\\.python\\envs\\fish\\lib\\site-packages\\tornado\\gen.py\", line 735, in run\n",
      "    value = future.result()\n",
      "  File \"C:\\Users\\joshk\\.python\\envs\\fish\\lib\\site-packages\\tornado\\gen.py\", line 748, in run\n",
      "    yielded = self.gen.send(value)\n",
      "  File \"C:\\Users\\joshk\\.python\\envs\\fish\\lib\\site-packages\\bokeh\\server\\contexts.py\", line 222, in create_session_if_needed\n",
      "    self._application.initialize_document(doc)\n",
      "  File \"C:\\Users\\joshk\\.python\\envs\\fish\\lib\\site-packages\\bokeh\\application\\application.py\", line 178, in initialize_document\n",
      "    h.modify_document(doc)\n",
      "  File \"C:\\Users\\joshk\\.python\\envs\\fish\\lib\\site-packages\\bokeh\\application\\handlers\\function.py\", line 133, in modify_document\n",
      "    self._func(doc)\n",
      "  File \"<ipython-input-69-b9defcf92294>\", line 19, in _\n",
      "    slic_source = ColumnDataSource(data=dict(x=np.arange(0, H, 1), y_coord=frame_opts['h'],y=frames[frame_opts['index'], :, frame_opts['h']]))\n",
      "  File \"C:\\Users\\joshk\\.python\\envs\\fish\\lib\\site-packages\\bokeh\\models\\sources.py\", line 194, in __init__\n",
      "    self.data.update(raw_data)\n",
      "  File \"C:\\Users\\joshk\\.python\\envs\\fish\\lib\\site-packages\\bokeh\\core\\property\\wrappers.py\", line 393, in update\n",
      "    descriptor._notify_mutated(owner, old, hint=hint)\n",
      "  File \"C:\\Users\\joshk\\.python\\envs\\fish\\lib\\site-packages\\bokeh\\core\\property\\descriptors.py\", line 873, in _notify_mutated\n",
      "    value = self.property.prepare_value(obj, self.name, value)\n",
      "  File \"C:\\Users\\joshk\\.python\\envs\\fish\\lib\\site-packages\\bokeh\\core\\property\\bases.py\", line 327, in prepare_value\n",
      "    raise e\n",
      "  File \"C:\\Users\\joshk\\.python\\envs\\fish\\lib\\site-packages\\bokeh\\core\\property\\bases.py\", line 320, in prepare_value\n",
      "    self.validate(value)\n",
      "  File \"C:\\Users\\joshk\\.python\\envs\\fish\\lib\\site-packages\\bokeh\\core\\property\\container.py\", line 190, in validate\n",
      "    raise ValueError(msg)\n",
      "ValueError: expected an element of ColumnData(String, Seq(Any)), got {'x': array([   0,    1,    2, ..., 1021, 1022, 1023]), 'y_coord': 0, 'y': array([0, 0, 0, ..., 0, 0, 0], dtype=uint8)}\n",
      "ERROR:tornado.access:500 GET /autoload.js?bokeh-autoload-element=6694&bokeh-absolute-url=http://localhost:60564&resources=none (::1) 50.99ms\n"
     ]
    }
   ],
   "source": [
    "slices(backsubbed_movie)"
   ]
  },
  {
   "cell_type": "code",
   "execution_count": null,
   "metadata": {},
   "outputs": [],
   "source": []
  }
 ],
 "metadata": {
  "kernelspec": {
   "display_name": "Python 3",
   "language": "python",
   "name": "python3"
  },
  "language_info": {
   "codemirror_mode": {
    "name": "ipython",
    "version": 3
   },
   "file_extension": ".py",
   "mimetype": "text/x-python",
   "name": "python",
   "nbconvert_exporter": "python",
   "pygments_lexer": "ipython3",
   "version": "3.8.1"
  }
 },
 "nbformat": 4,
 "nbformat_minor": 4
}
